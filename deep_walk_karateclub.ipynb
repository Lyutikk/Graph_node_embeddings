{
  "nbformat": 4,
  "nbformat_minor": 0,
  "metadata": {
    "colab": {
      "provenance": [],
      "collapsed_sections": []
    },
    "kernelspec": {
      "name": "python3",
      "display_name": "Python 3"
    },
    "language_info": {
      "name": "python"
    }
  },
  "cells": [
    {
      "cell_type": "code",
      "execution_count": 1,
      "metadata": {
        "colab": {
          "base_uri": "https://localhost:8080/"
        },
        "id": "lhsW_sG-Itm0",
        "outputId": "fa1c21f0-c42f-436d-d216-ae26183a8621"
      },
      "outputs": [
        {
          "output_type": "stream",
          "name": "stdout",
          "text": [
            "Looking in indexes: https://pypi.org/simple, https://us-python.pkg.dev/colab-wheels/public/simple/\n",
            "Collecting karateclub\n",
            "  Downloading karateclub-1.3.3.tar.gz (64 kB)\n",
            "\u001b[K     |████████████████████████████████| 64 kB 1.3 MB/s \n",
            "\u001b[?25hRequirement already satisfied: numpy<1.23.0 in /usr/local/lib/python3.7/dist-packages (from karateclub) (1.21.6)\n",
            "Requirement already satisfied: networkx<2.7 in /usr/local/lib/python3.7/dist-packages (from karateclub) (2.6.3)\n",
            "Requirement already satisfied: decorator==4.4.2 in /usr/local/lib/python3.7/dist-packages (from karateclub) (4.4.2)\n",
            "Requirement already satisfied: tqdm in /usr/local/lib/python3.7/dist-packages (from karateclub) (4.64.1)\n",
            "Requirement already satisfied: python-louvain in /usr/local/lib/python3.7/dist-packages (from karateclub) (0.16)\n",
            "Requirement already satisfied: scikit-learn in /usr/local/lib/python3.7/dist-packages (from karateclub) (1.0.2)\n",
            "Requirement already satisfied: scipy in /usr/local/lib/python3.7/dist-packages (from karateclub) (1.7.3)\n",
            "Collecting pygsp\n",
            "  Downloading PyGSP-0.5.1-py2.py3-none-any.whl (1.8 MB)\n",
            "\u001b[K     |████████████████████████████████| 1.8 MB 38.6 MB/s \n",
            "\u001b[?25hCollecting gensim>=4.0.0\n",
            "  Downloading gensim-4.2.0-cp37-cp37m-manylinux_2_12_x86_64.manylinux2010_x86_64.whl (24.1 MB)\n",
            "\u001b[K     |████████████████████████████████| 24.1 MB 28.8 MB/s \n",
            "\u001b[?25hRequirement already satisfied: pandas<=1.3.5 in /usr/local/lib/python3.7/dist-packages (from karateclub) (1.3.5)\n",
            "Requirement already satisfied: six in /usr/local/lib/python3.7/dist-packages (from karateclub) (1.15.0)\n",
            "Collecting python-Levenshtein\n",
            "  Downloading python_Levenshtein-0.20.8-py3-none-any.whl (9.4 kB)\n",
            "Requirement already satisfied: smart-open>=1.8.1 in /usr/local/lib/python3.7/dist-packages (from gensim>=4.0.0->karateclub) (5.2.1)\n",
            "Requirement already satisfied: python-dateutil>=2.7.3 in /usr/local/lib/python3.7/dist-packages (from pandas<=1.3.5->karateclub) (2.8.2)\n",
            "Requirement already satisfied: pytz>=2017.3 in /usr/local/lib/python3.7/dist-packages (from pandas<=1.3.5->karateclub) (2022.5)\n",
            "Collecting Levenshtein==0.20.8\n",
            "  Downloading Levenshtein-0.20.8-cp37-cp37m-manylinux_2_17_x86_64.manylinux2014_x86_64.whl (175 kB)\n",
            "\u001b[K     |████████████████████████████████| 175 kB 47.2 MB/s \n",
            "\u001b[?25hCollecting rapidfuzz<3.0.0,>=2.3.0\n",
            "  Downloading rapidfuzz-2.13.1-cp37-cp37m-manylinux_2_17_x86_64.manylinux2014_x86_64.whl (2.2 MB)\n",
            "\u001b[K     |████████████████████████████████| 2.2 MB 40.8 MB/s \n",
            "\u001b[?25hRequirement already satisfied: joblib>=0.11 in /usr/local/lib/python3.7/dist-packages (from scikit-learn->karateclub) (1.2.0)\n",
            "Requirement already satisfied: threadpoolctl>=2.0.0 in /usr/local/lib/python3.7/dist-packages (from scikit-learn->karateclub) (3.1.0)\n",
            "Building wheels for collected packages: karateclub\n",
            "  Building wheel for karateclub (setup.py) ... \u001b[?25l\u001b[?25hdone\n",
            "  Created wheel for karateclub: filename=karateclub-1.3.3-py3-none-any.whl size=102009 sha256=ae4ee3ec8a35b28ae16cbbe5b0edf3dc8b0d8acf9614614926ef2fa48da257f4\n",
            "  Stored in directory: /root/.cache/pip/wheels/a4/df/96/6bad7712be4b013f6efbe6c69d7a69d862704776da02fd8a94\n",
            "Successfully built karateclub\n",
            "Installing collected packages: rapidfuzz, Levenshtein, python-Levenshtein, pygsp, gensim, karateclub\n",
            "  Attempting uninstall: gensim\n",
            "    Found existing installation: gensim 3.6.0\n",
            "    Uninstalling gensim-3.6.0:\n",
            "      Successfully uninstalled gensim-3.6.0\n",
            "Successfully installed Levenshtein-0.20.8 gensim-4.2.0 karateclub-1.3.3 pygsp-0.5.1 python-Levenshtein-0.20.8 rapidfuzz-2.13.1\n"
          ]
        }
      ],
      "source": [
        "!pip install karateclub"
      ]
    },
    {
      "cell_type": "code",
      "source": [
        "import networkx\n",
        "from google.colab import files\n",
        "\n",
        "uploaded = files.upload()\n",
        "G = networkx.readwrite.graphml.read_graphml(\"Filtered_graph.graphml\")"
      ],
      "metadata": {
        "colab": {
          "base_uri": "https://localhost:8080/",
          "height": 73
        },
        "id": "cvMFYd8MObeD",
        "outputId": "24fff439-4bab-427a-abb7-3e55552cd0f3"
      },
      "execution_count": 2,
      "outputs": [
        {
          "output_type": "display_data",
          "data": {
            "text/plain": [
              "<IPython.core.display.HTML object>"
            ],
            "text/html": [
              "\n",
              "     <input type=\"file\" id=\"files-6ff67481-23a4-48f3-8579-d9159c7aee16\" name=\"files[]\" multiple disabled\n",
              "        style=\"border:none\" />\n",
              "     <output id=\"result-6ff67481-23a4-48f3-8579-d9159c7aee16\">\n",
              "      Upload widget is only available when the cell has been executed in the\n",
              "      current browser session. Please rerun this cell to enable.\n",
              "      </output>\n",
              "      <script>// Copyright 2017 Google LLC\n",
              "//\n",
              "// Licensed under the Apache License, Version 2.0 (the \"License\");\n",
              "// you may not use this file except in compliance with the License.\n",
              "// You may obtain a copy of the License at\n",
              "//\n",
              "//      http://www.apache.org/licenses/LICENSE-2.0\n",
              "//\n",
              "// Unless required by applicable law or agreed to in writing, software\n",
              "// distributed under the License is distributed on an \"AS IS\" BASIS,\n",
              "// WITHOUT WARRANTIES OR CONDITIONS OF ANY KIND, either express or implied.\n",
              "// See the License for the specific language governing permissions and\n",
              "// limitations under the License.\n",
              "\n",
              "/**\n",
              " * @fileoverview Helpers for google.colab Python module.\n",
              " */\n",
              "(function(scope) {\n",
              "function span(text, styleAttributes = {}) {\n",
              "  const element = document.createElement('span');\n",
              "  element.textContent = text;\n",
              "  for (const key of Object.keys(styleAttributes)) {\n",
              "    element.style[key] = styleAttributes[key];\n",
              "  }\n",
              "  return element;\n",
              "}\n",
              "\n",
              "// Max number of bytes which will be uploaded at a time.\n",
              "const MAX_PAYLOAD_SIZE = 100 * 1024;\n",
              "\n",
              "function _uploadFiles(inputId, outputId) {\n",
              "  const steps = uploadFilesStep(inputId, outputId);\n",
              "  const outputElement = document.getElementById(outputId);\n",
              "  // Cache steps on the outputElement to make it available for the next call\n",
              "  // to uploadFilesContinue from Python.\n",
              "  outputElement.steps = steps;\n",
              "\n",
              "  return _uploadFilesContinue(outputId);\n",
              "}\n",
              "\n",
              "// This is roughly an async generator (not supported in the browser yet),\n",
              "// where there are multiple asynchronous steps and the Python side is going\n",
              "// to poll for completion of each step.\n",
              "// This uses a Promise to block the python side on completion of each step,\n",
              "// then passes the result of the previous step as the input to the next step.\n",
              "function _uploadFilesContinue(outputId) {\n",
              "  const outputElement = document.getElementById(outputId);\n",
              "  const steps = outputElement.steps;\n",
              "\n",
              "  const next = steps.next(outputElement.lastPromiseValue);\n",
              "  return Promise.resolve(next.value.promise).then((value) => {\n",
              "    // Cache the last promise value to make it available to the next\n",
              "    // step of the generator.\n",
              "    outputElement.lastPromiseValue = value;\n",
              "    return next.value.response;\n",
              "  });\n",
              "}\n",
              "\n",
              "/**\n",
              " * Generator function which is called between each async step of the upload\n",
              " * process.\n",
              " * @param {string} inputId Element ID of the input file picker element.\n",
              " * @param {string} outputId Element ID of the output display.\n",
              " * @return {!Iterable<!Object>} Iterable of next steps.\n",
              " */\n",
              "function* uploadFilesStep(inputId, outputId) {\n",
              "  const inputElement = document.getElementById(inputId);\n",
              "  inputElement.disabled = false;\n",
              "\n",
              "  const outputElement = document.getElementById(outputId);\n",
              "  outputElement.innerHTML = '';\n",
              "\n",
              "  const pickedPromise = new Promise((resolve) => {\n",
              "    inputElement.addEventListener('change', (e) => {\n",
              "      resolve(e.target.files);\n",
              "    });\n",
              "  });\n",
              "\n",
              "  const cancel = document.createElement('button');\n",
              "  inputElement.parentElement.appendChild(cancel);\n",
              "  cancel.textContent = 'Cancel upload';\n",
              "  const cancelPromise = new Promise((resolve) => {\n",
              "    cancel.onclick = () => {\n",
              "      resolve(null);\n",
              "    };\n",
              "  });\n",
              "\n",
              "  // Wait for the user to pick the files.\n",
              "  const files = yield {\n",
              "    promise: Promise.race([pickedPromise, cancelPromise]),\n",
              "    response: {\n",
              "      action: 'starting',\n",
              "    }\n",
              "  };\n",
              "\n",
              "  cancel.remove();\n",
              "\n",
              "  // Disable the input element since further picks are not allowed.\n",
              "  inputElement.disabled = true;\n",
              "\n",
              "  if (!files) {\n",
              "    return {\n",
              "      response: {\n",
              "        action: 'complete',\n",
              "      }\n",
              "    };\n",
              "  }\n",
              "\n",
              "  for (const file of files) {\n",
              "    const li = document.createElement('li');\n",
              "    li.append(span(file.name, {fontWeight: 'bold'}));\n",
              "    li.append(span(\n",
              "        `(${file.type || 'n/a'}) - ${file.size} bytes, ` +\n",
              "        `last modified: ${\n",
              "            file.lastModifiedDate ? file.lastModifiedDate.toLocaleDateString() :\n",
              "                                    'n/a'} - `));\n",
              "    const percent = span('0% done');\n",
              "    li.appendChild(percent);\n",
              "\n",
              "    outputElement.appendChild(li);\n",
              "\n",
              "    const fileDataPromise = new Promise((resolve) => {\n",
              "      const reader = new FileReader();\n",
              "      reader.onload = (e) => {\n",
              "        resolve(e.target.result);\n",
              "      };\n",
              "      reader.readAsArrayBuffer(file);\n",
              "    });\n",
              "    // Wait for the data to be ready.\n",
              "    let fileData = yield {\n",
              "      promise: fileDataPromise,\n",
              "      response: {\n",
              "        action: 'continue',\n",
              "      }\n",
              "    };\n",
              "\n",
              "    // Use a chunked sending to avoid message size limits. See b/62115660.\n",
              "    let position = 0;\n",
              "    do {\n",
              "      const length = Math.min(fileData.byteLength - position, MAX_PAYLOAD_SIZE);\n",
              "      const chunk = new Uint8Array(fileData, position, length);\n",
              "      position += length;\n",
              "\n",
              "      const base64 = btoa(String.fromCharCode.apply(null, chunk));\n",
              "      yield {\n",
              "        response: {\n",
              "          action: 'append',\n",
              "          file: file.name,\n",
              "          data: base64,\n",
              "        },\n",
              "      };\n",
              "\n",
              "      let percentDone = fileData.byteLength === 0 ?\n",
              "          100 :\n",
              "          Math.round((position / fileData.byteLength) * 100);\n",
              "      percent.textContent = `${percentDone}% done`;\n",
              "\n",
              "    } while (position < fileData.byteLength);\n",
              "  }\n",
              "\n",
              "  // All done.\n",
              "  yield {\n",
              "    response: {\n",
              "      action: 'complete',\n",
              "    }\n",
              "  };\n",
              "}\n",
              "\n",
              "scope.google = scope.google || {};\n",
              "scope.google.colab = scope.google.colab || {};\n",
              "scope.google.colab._files = {\n",
              "  _uploadFiles,\n",
              "  _uploadFilesContinue,\n",
              "};\n",
              "})(self);\n",
              "</script> "
            ]
          },
          "metadata": {}
        },
        {
          "output_type": "stream",
          "name": "stdout",
          "text": [
            "Saving Filtered_graph.graphml to Filtered_graph.graphml\n"
          ]
        }
      ]
    },
    {
      "cell_type": "code",
      "source": [
        "# идентификаторы узлов должны быть целыми для использования библиотека, а тут строки, поэтому делается конвертация\n",
        "G1 = networkx.relabel.convert_node_labels_to_integers(G, first_label=0, ordering='default')\n",
        "G1.nodes"
      ],
      "metadata": {
        "colab": {
          "base_uri": "https://localhost:8080/"
        },
        "id": "Qv0gu1OXOuR9",
        "outputId": "7a1a63d3-4ad8-4a56-d803-82e0ea17d680"
      },
      "execution_count": 3,
      "outputs": [
        {
          "output_type": "execute_result",
          "data": {
            "text/plain": [
              "NodeView((0, 1, 2, 3, 4, 5, 6, 7, 8, 9, 10, 11, 12, 13, 14, 15, 16, 17, 18, 19, 20, 21, 22, 23, 24, 25, 26, 27, 28, 29, 30, 31, 32, 33, 34, 35, 36, 37, 38, 39, 40))"
            ]
          },
          "metadata": {},
          "execution_count": 3
        }
      ]
    },
    {
      "cell_type": "code",
      "source": [
        "from karateclub import DeepWalk\n",
        "\n",
        "# дип валк - эмбединг с рекомендованными параметрами\n",
        "model = DeepWalk(walk_length=80, dimensions=100, window_size=10)\n",
        "model.fit(G1)\n",
        "embed = model.get_embedding()\n",
        "print('векторное представление узлов', embed) # вывод векторов\n",
        "print('весь список узлов', list(G1.nodes)) #сами узлы"
      ],
      "metadata": {
        "colab": {
          "base_uri": "https://localhost:8080/"
        },
        "id": "EVNMmv3fOy0-",
        "outputId": "5fa23ee4-b4df-43ba-d886-0b4d9eaa9153"
      },
      "execution_count": 4,
      "outputs": [
        {
          "output_type": "stream",
          "name": "stdout",
          "text": [
            "векторное представление узлов [[-0.04737379 -0.14568943 -0.14249791 ...  0.06277253 -0.18379763\n",
            "  -0.32699198]\n",
            " [-0.05906134 -0.60130584  0.17955804 ... -0.19850472 -0.4096297\n",
            "   0.8312162 ]\n",
            " [-0.29957205  0.34227422  0.5745167  ...  0.08719843 -0.1912899\n",
            "  -0.08890871]\n",
            " ...\n",
            " [-0.425748    0.32962292  0.71184355 ...  0.09633775 -0.34397382\n",
            "   0.02376512]\n",
            " [-0.3754259   0.44476753  0.48961917 ...  0.1311182  -0.26868072\n",
            "  -0.34291306]\n",
            " [-0.2653122   0.46188542  0.47688422 ...  0.13079642 -0.13665377\n",
            "  -0.33640957]]\n",
            "весь список узлов [0, 1, 2, 3, 4, 5, 6, 7, 8, 9, 10, 11, 12, 13, 14, 15, 16, 17, 18, 19, 20, 21, 22, 23, 24, 25, 26, 27, 28, 29, 30, 31, 32, 33, 34, 35, 36, 37, 38, 39, 40]\n"
          ]
        }
      ]
    },
    {
      "cell_type": "code",
      "source": [
        "from scipy.spatial.distance import cdist\n",
        "import numpy as np\n",
        "\n",
        "M = 1 - cdist(embed, embed, metric='cosine')\n",
        "print (M.shape)\n",
        "# это матрица схожести.\n",
        "# Теперь для того, чтобы найти 10 наиболее похожих на 1ый узел нужно найти 10 самых больших значений. Чем ближе к 1 тем больше схожесть, чем меньше, тем меньше.\n",
        "\n",
        "# выбираем 1ую строку - это схожесть всех узлов с 1ым.\n",
        "print (M[0,:])\n",
        "\n",
        "# смотрим 4 самых похожих\n",
        "temp = np.argpartition(-M[0,:], 10)\n",
        "result_args = temp[:10]\n",
        "print (result_args)"
      ],
      "metadata": {
        "colab": {
          "base_uri": "https://localhost:8080/"
        },
        "id": "H6_dd7YFO0Ov",
        "outputId": "39ccbde1-44c8-49a3-d9c5-73c9989d6cd0"
      },
      "execution_count": 5,
      "outputs": [
        {
          "output_type": "stream",
          "name": "stdout",
          "text": [
            "(41, 41)\n",
            "[ 1.         -0.13501955 -0.03984321  0.94968313  0.20092875  0.97958977\n",
            "  0.96305095  0.9247618   0.9883803   0.96545831  0.90486729 -0.17395918\n",
            " -0.33654551 -0.22744535 -0.45549842 -0.10367022 -0.34011914 -0.06576436\n",
            "  0.01868505  0.02729986 -0.08730803 -0.19055034  0.65653167  0.73920084\n",
            "  0.54651231  0.50171151  0.61619105  0.59588117  0.12791024 -0.09290103\n",
            "  0.12164079  0.02153476  0.07912492 -0.04612778  0.14330984  0.15653029\n",
            "  0.12262337 -0.13720028  0.05867906  0.28102504  0.14665415]\n",
            "[ 0  8 10  3  9  5  6  7 23 22]\n"
          ]
        }
      ]
    },
    {
      "cell_type": "code",
      "source": [
        "#                  example (for code above)\n",
        "# ============================================================================\n",
        "\n",
        "import numpy as np\n",
        "\n",
        "test = np.array([9,1,3,4,8,7,2,5,6,0])\n",
        "\n",
        "temp = np.argpartition(-test, 4)\n",
        "result_args = temp[:4]\n",
        "print (result_args)\n",
        "\n",
        "temp = np.partition(-test, 4)\n",
        "result = -temp[:4]\n",
        "print (result)"
      ],
      "metadata": {
        "colab": {
          "base_uri": "https://localhost:8080/"
        },
        "id": "IB2PNv-QO4JS",
        "outputId": "2d117b03-195e-4e13-d6d3-9bea75f3709c"
      },
      "execution_count": 6,
      "outputs": [
        {
          "output_type": "stream",
          "name": "stdout",
          "text": [
            "[0 4 8 5]\n",
            "[9 8 6 7]\n"
          ]
        }
      ]
    },
    {
      "cell_type": "code",
      "source": [
        "#                   visualisation functions\n",
        "# ============================================================================\n",
        "\n",
        "from random import randint\n",
        "from sklearn.manifold import TSNE\n",
        "from sklearn.decomposition import PCA\n",
        "import numpy as np\n",
        "import matplotlib.pyplot as plt\n",
        "%matplotlib inline\n",
        "#labels - метки кластера\n",
        "#word_list - идентификаторы узлов графа\n",
        "#annotate - выводить ли подписи названий узлов на график\n",
        "def plot_PCA_nodes(G1, X_scaled, nodes_list,  labels = [],annotate = False , random_st=10):\n",
        "    \n",
        "    X = X_scaled\n",
        "    colors = ['#6495ED' for i in nodes_list]\n",
        "    map={}\n",
        "    if len(labels) != 0:\n",
        "       for i in set(labels):\n",
        "         map[i]='#%06X' % randint(0, 0xFFFFFF)\n",
        "       colors = [map[i] for i in labels]\n",
        "    \n",
        "    # reduce dimensions to 2\n",
        "    pca = PCA(n_components=2)\n",
        "    result = pca.fit_transform(X)\n",
        "    \n",
        "    plt.figure(figsize=(12,9))\n",
        "    # create a scatter plot of the projection\n",
        "    plt.scatter(result[:, 0], result[:, 1],  c=colors)\n",
        "    for i, node in enumerate(nodes_list):\n",
        "        if (G1.nodes[ node ]['label'] !='-' and annotate==True):\n",
        "           plt.annotate(G1.nodes[ node ]['label'], xy=(result[i, 0], result[i, 1]))\n",
        "    \n",
        "    plt.show()\n",
        "   \n",
        "\n",
        "\n",
        "    \n",
        "    \n",
        "\n",
        "def plot_TSNE_nodes(G1, X_scaled, nodes_list, labels = [], annotate = False, random_st=10):\n",
        "\n",
        "    colors = ['#6495ED' for i in nodes_list]\n",
        "    map={}\n",
        "    if len(labels) != 0:\n",
        "      for i in set(labels):\n",
        "         map[i]='#%06X' % randint(0, 0xFFFFFF)\n",
        "      colors = [map[i] for i in labels]\n",
        "\n",
        "    X = X_scaled\n",
        "\n",
        "\n",
        "    tsne = TSNE(n_components=2, verbose=0, perplexity=7, n_iter=150,  init='random', random_state=random_st)\n",
        "    tsne_results = tsne.fit_transform(X)\n",
        "    plt.figure(figsize=(12,9))\n",
        "    # create a scatter plot of the projection\n",
        "    plt.scatter(tsne_results[:, 0], tsne_results[:, 1], c = colors)\n",
        "    for i, node in enumerate(nodes_list):\n",
        "        if (G1.nodes[node]['label'] !='-' and annotate ==True):\n",
        "          plt.annotate(G1.nodes[node]['label'], xy=(tsne_results[i, 0], tsne_results[i, 1]))\n",
        "    plt.show()\n",
        "\n",
        "\n",
        "def plot_TSNE_PCA_nodes(G1, x_scaled, nodes_list, labels = [], annotate = False, random_st=10):\n",
        "\n",
        "    colors = ['#6495ED' for i in nodes_list]\n",
        "    map={}\n",
        "    if len(labels) != 0:\n",
        "      for i in set(labels):\n",
        "         map[i]='#%06X' % randint(0, 0xFFFFFF)\n",
        "      colors = [map[i] for i in labels]\n",
        "\n",
        "\n",
        "    X = X_scaled\n",
        "\n",
        "    tsne = TSNE(n_components=2, verbose=0, perplexity=7,   learning_rate=\"auto\",  init='pca', random_state=random_st)\n",
        "    tsne_results = tsne.fit_transform(X)\n",
        "\n",
        "    pca = PCA(n_components=2)\n",
        "    pca_results = pca.fit_transform(X)\n",
        "    \n",
        "    f, ax = plt.subplots(1, 2, figsize=(40, 20))\n",
        "    ax[0].scatter(pca_results[:, 0], pca_results[:, 1],  c=colors)\n",
        "    ax[0].set_title('PCA Cluster Plot')\n",
        "    \n",
        "    \n",
        "  \n",
        "\n",
        "    ax[1].scatter(tsne_results[:, 0], tsne_results[:, 1], c = colors)\n",
        "    ax[1].set_title('TSNE Cluster Plot')\n",
        "\n",
        "    for i, node in enumerate(nodes_list):\n",
        "        if (G1.nodes[node]['label'] !='-' and annotate ==True):\n",
        "          ax[0].annotate(G1.nodes[node]['label'], xy=(pca_results[i, 0], pca_results[i, 1]))\n",
        "          ax[1].annotate(G1.nodes[node]['label'], xy=(tsne_results[i, 0], tsne_results[i, 1]))\n",
        "    plt.show()\n"
      ],
      "metadata": {
        "id": "2hyqumtSO_5o"
      },
      "execution_count": 8,
      "outputs": []
    },
    {
      "cell_type": "code",
      "source": [
        "#                  plot\n",
        "# ============================================================================\n",
        "\n",
        "X = embed\n",
        "\n",
        "X_scaled = X\n",
        "\n",
        "#plot_PCA_nodes(G1, X_scaled, list(G1.nodes), labels = [], annotate = False, random_st=15)\n",
        "\n",
        "plot_TSNE_PCA_nodes(G1,X_scaled, list(G1.nodes), labels = [], annotate = False, random_st=15)"
      ],
      "metadata": {
        "colab": {
          "base_uri": "https://localhost:8080/",
          "height": 1000
        },
        "id": "sp1-t77FPCAe",
        "outputId": "e5d40be8-d0bd-4d1e-982c-7b8ffa1fae22"
      },
      "execution_count": 9,
      "outputs": [
        {
          "output_type": "stream",
          "name": "stderr",
          "text": [
            "/usr/local/lib/python3.7/dist-packages/sklearn/manifold/_t_sne.py:986: FutureWarning: The PCA initialization in TSNE will change to have the standard deviation of PC1 equal to 1e-4 in 1.2. This will ensure better convergence.\n",
            "  FutureWarning,\n"
          ]
        },
        {
          "output_type": "display_data",
          "data": {
            "text/plain": [
              "<Figure size 2880x1440 with 2 Axes>"
            ],
            "image/png": "[encoded data removed]"
          },
          "metadata": {
            "needs_background": "light"
          }
        }
      ]
    }
  ]
}