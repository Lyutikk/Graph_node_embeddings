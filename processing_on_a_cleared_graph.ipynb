{
  "nbformat": 4,
  "nbformat_minor": 0,
  "metadata": {
    "colab": {
      "provenance": [],
      "collapsed_sections": []
    },
    "kernelspec": {
      "name": "python3",
      "display_name": "Python 3"
    },
    "language_info": {
      "name": "python"
    }
  },
  "cells": [
    {
      "cell_type": "code",
      "execution_count": null,
      "metadata": {
        "id": "-wfncKrppaEm"
      },
      "outputs": [],
      "source": [
        "#                imports\n",
        "# ===========================================================================\n",
        "\n",
        "import numpy as np\n",
        "import networkx # граф\n",
        "\n",
        "from tqdm import tqdm #отслеживание прогресса выполнения \n",
        "\n",
        "import random \n",
        "from random import randint\n",
        "\n",
        "from gensim.models import Word2Vec #word2vec\n",
        "import warnings\n",
        "\n",
        "#снижение размерности для визуализации\n",
        "from sklearn.manifold import TSNE\n",
        "from sklearn.decomposition import PCA\n",
        "import matplotlib.pyplot as plt\n",
        "%matplotlib inline"
      ]
    },
    {
      "cell_type": "code",
      "source": [
        "from google.colab import files\n",
        "#загрузка файла\n",
        "uploaded = files.upload()\n",
        "# данные из файла преобразуются в граф\n",
        "G = networkx.readwrite.graphml.read_graphml(\"Filtered_graph.graphml\")\n",
        "G"
      ],
      "metadata": {
        "colab": {
          "base_uri": "https://localhost:8080/",
          "height": 90
        },
        "id": "ysU2VjQspkT-",
        "outputId": "885ad13c-3f01-476c-ac17-70450aa5102a"
      },
      "execution_count": null,
      "outputs": [
        {
          "output_type": "display_data",
          "data": {
            "text/plain": [
              "<IPython.core.display.HTML object>"
            ],
            "text/html": [
              "\n",
              "     <input type=\"file\" id=\"files-58b51509-6021-47c1-a180-b8b257a057ec\" name=\"files[]\" multiple disabled\n",
              "        style=\"border:none\" />\n",
              "     <output id=\"result-58b51509-6021-47c1-a180-b8b257a057ec\">\n",
              "      Upload widget is only available when the cell has been executed in the\n",
              "      current browser session. Please rerun this cell to enable.\n",
              "      </output>\n",
              "      <script>// Copyright 2017 Google LLC\n",
              "//\n",
              "// Licensed under the Apache License, Version 2.0 (the \"License\");\n",
              "// you may not use this file except in compliance with the License.\n",
              "// You may obtain a copy of the License at\n",
              "//\n",
              "//      http://www.apache.org/licenses/LICENSE-2.0\n",
              "//\n",
              "// Unless required by applicable law or agreed to in writing, software\n",
              "// distributed under the License is distributed on an \"AS IS\" BASIS,\n",
              "// WITHOUT WARRANTIES OR CONDITIONS OF ANY KIND, either express or implied.\n",
              "// See the License for the specific language governing permissions and\n",
              "// limitations under the License.\n",
              "\n",
              "/**\n",
              " * @fileoverview Helpers for google.colab Python module.\n",
              " */\n",
              "(function(scope) {\n",
              "function span(text, styleAttributes = {}) {\n",
              "  const element = document.createElement('span');\n",
              "  element.textContent = text;\n",
              "  for (const key of Object.keys(styleAttributes)) {\n",
              "    element.style[key] = styleAttributes[key];\n",
              "  }\n",
              "  return element;\n",
              "}\n",
              "\n",
              "// Max number of bytes which will be uploaded at a time.\n",
              "const MAX_PAYLOAD_SIZE = 100 * 1024;\n",
              "\n",
              "function _uploadFiles(inputId, outputId) {\n",
              "  const steps = uploadFilesStep(inputId, outputId);\n",
              "  const outputElement = document.getElementById(outputId);\n",
              "  // Cache steps on the outputElement to make it available for the next call\n",
              "  // to uploadFilesContinue from Python.\n",
              "  outputElement.steps = steps;\n",
              "\n",
              "  return _uploadFilesContinue(outputId);\n",
              "}\n",
              "\n",
              "// This is roughly an async generator (not supported in the browser yet),\n",
              "// where there are multiple asynchronous steps and the Python side is going\n",
              "// to poll for completion of each step.\n",
              "// This uses a Promise to block the python side on completion of each step,\n",
              "// then passes the result of the previous step as the input to the next step.\n",
              "function _uploadFilesContinue(outputId) {\n",
              "  const outputElement = document.getElementById(outputId);\n",
              "  const steps = outputElement.steps;\n",
              "\n",
              "  const next = steps.next(outputElement.lastPromiseValue);\n",
              "  return Promise.resolve(next.value.promise).then((value) => {\n",
              "    // Cache the last promise value to make it available to the next\n",
              "    // step of the generator.\n",
              "    outputElement.lastPromiseValue = value;\n",
              "    return next.value.response;\n",
              "  });\n",
              "}\n",
              "\n",
              "/**\n",
              " * Generator function which is called between each async step of the upload\n",
              " * process.\n",
              " * @param {string} inputId Element ID of the input file picker element.\n",
              " * @param {string} outputId Element ID of the output display.\n",
              " * @return {!Iterable<!Object>} Iterable of next steps.\n",
              " */\n",
              "function* uploadFilesStep(inputId, outputId) {\n",
              "  const inputElement = document.getElementById(inputId);\n",
              "  inputElement.disabled = false;\n",
              "\n",
              "  const outputElement = document.getElementById(outputId);\n",
              "  outputElement.innerHTML = '';\n",
              "\n",
              "  const pickedPromise = new Promise((resolve) => {\n",
              "    inputElement.addEventListener('change', (e) => {\n",
              "      resolve(e.target.files);\n",
              "    });\n",
              "  });\n",
              "\n",
              "  const cancel = document.createElement('button');\n",
              "  inputElement.parentElement.appendChild(cancel);\n",
              "  cancel.textContent = 'Cancel upload';\n",
              "  const cancelPromise = new Promise((resolve) => {\n",
              "    cancel.onclick = () => {\n",
              "      resolve(null);\n",
              "    };\n",
              "  });\n",
              "\n",
              "  // Wait for the user to pick the files.\n",
              "  const files = yield {\n",
              "    promise: Promise.race([pickedPromise, cancelPromise]),\n",
              "    response: {\n",
              "      action: 'starting',\n",
              "    }\n",
              "  };\n",
              "\n",
              "  cancel.remove();\n",
              "\n",
              "  // Disable the input element since further picks are not allowed.\n",
              "  inputElement.disabled = true;\n",
              "\n",
              "  if (!files) {\n",
              "    return {\n",
              "      response: {\n",
              "        action: 'complete',\n",
              "      }\n",
              "    };\n",
              "  }\n",
              "\n",
              "  for (const file of files) {\n",
              "    const li = document.createElement('li');\n",
              "    li.append(span(file.name, {fontWeight: 'bold'}));\n",
              "    li.append(span(\n",
              "        `(${file.type || 'n/a'}) - ${file.size} bytes, ` +\n",
              "        `last modified: ${\n",
              "            file.lastModifiedDate ? file.lastModifiedDate.toLocaleDateString() :\n",
              "                                    'n/a'} - `));\n",
              "    const percent = span('0% done');\n",
              "    li.appendChild(percent);\n",
              "\n",
              "    outputElement.appendChild(li);\n",
              "\n",
              "    const fileDataPromise = new Promise((resolve) => {\n",
              "      const reader = new FileReader();\n",
              "      reader.onload = (e) => {\n",
              "        resolve(e.target.result);\n",
              "      };\n",
              "      reader.readAsArrayBuffer(file);\n",
              "    });\n",
              "    // Wait for the data to be ready.\n",
              "    let fileData = yield {\n",
              "      promise: fileDataPromise,\n",
              "      response: {\n",
              "        action: 'continue',\n",
              "      }\n",
              "    };\n",
              "\n",
              "    // Use a chunked sending to avoid message size limits. See b/62115660.\n",
              "    let position = 0;\n",
              "    do {\n",
              "      const length = Math.min(fileData.byteLength - position, MAX_PAYLOAD_SIZE);\n",
              "      const chunk = new Uint8Array(fileData, position, length);\n",
              "      position += length;\n",
              "\n",
              "      const base64 = btoa(String.fromCharCode.apply(null, chunk));\n",
              "      yield {\n",
              "        response: {\n",
              "          action: 'append',\n",
              "          file: file.name,\n",
              "          data: base64,\n",
              "        },\n",
              "      };\n",
              "\n",
              "      let percentDone = fileData.byteLength === 0 ?\n",
              "          100 :\n",
              "          Math.round((position / fileData.byteLength) * 100);\n",
              "      percent.textContent = `${percentDone}% done`;\n",
              "\n",
              "    } while (position < fileData.byteLength);\n",
              "  }\n",
              "\n",
              "  // All done.\n",
              "  yield {\n",
              "    response: {\n",
              "      action: 'complete',\n",
              "    }\n",
              "  };\n",
              "}\n",
              "\n",
              "scope.google = scope.google || {};\n",
              "scope.google.colab = scope.google.colab || {};\n",
              "scope.google.colab._files = {\n",
              "  _uploadFiles,\n",
              "  _uploadFilesContinue,\n",
              "};\n",
              "})(self);\n",
              "</script> "
            ]
          },
          "metadata": {}
        },
        {
          "output_type": "stream",
          "name": "stdout",
          "text": [
            "Saving Filtered_graph.graphml to Filtered_graph.graphml\n"
          ]
        },
        {
          "output_type": "execute_result",
          "data": {
            "text/plain": [
              "<networkx.classes.multigraph.MultiGraph at 0x7f34235e4510>"
            ]
          },
          "metadata": {},
          "execution_count": 2
        }
      ]
    },
    {
      "cell_type": "code",
      "source": [
        "#                random walks\n",
        "# ===========================================================================\n",
        "\n",
        "# path_lengh - соответствует параметру t\n",
        "def get_randomwalk(G, node, path_length):\n",
        "    \n",
        "    random_walk = [node]\n",
        "    #print ('начинаем с узла', random_walk)\n",
        "    for i in range(path_length-1):\n",
        "        temp = list(G.neighbors(node))\n",
        "        # print('соседи', temp)\n",
        "        temp = list(set(temp) - set(random_walk))    \n",
        "        if len(temp) == 0:\n",
        "            break\n",
        "\n",
        "        random_node = random.choice(temp)\n",
        "        random_walk.append(random_node)\n",
        "        node = random_node\n",
        "        \n",
        "    return random_walk"
      ],
      "metadata": {
        "id": "k20yLyagpzMH"
      },
      "execution_count": null,
      "outputs": []
    },
    {
      "cell_type": "code",
      "source": [
        "#      the number of random walks per node of the graph (gamma)\n",
        "# ===========================================================================\n",
        "\n",
        "all_nodes = list(G.nodes())\n",
        "gamma = 80\n",
        "t = 80\n",
        "random_walks = []\n",
        "for n in tqdm(all_nodes):\n",
        "    for i in range(gamma):\n",
        "        random_walks.append(get_randomwalk(G, n, t))\n",
        "        \n",
        "# полученное число случайных блужданий\n",
        "len(random_walks)"
      ],
      "metadata": {
        "id": "MHdVMzx5FQcM",
        "colab": {
          "base_uri": "https://localhost:8080/"
        },
        "outputId": "1f1e6b4e-566b-489b-c89f-13059c87a5d8"
      },
      "execution_count": null,
      "outputs": [
        {
          "output_type": "stream",
          "name": "stderr",
          "text": [
            "100%|██████████| 41/41 [00:00<00:00, 415.46it/s]\n"
          ]
        },
        {
          "output_type": "execute_result",
          "data": {
            "text/plain": [
              "3280"
            ]
          },
          "metadata": {},
          "execution_count": 4
        }
      ]
    },
    {
      "cell_type": "markdown",
      "source": [
        "Params:\n",
        "\n",
        "1. window - размер окна\n",
        "\n",
        "2. sg = 1 - это значит будет использована модель skipgrapm\n",
        "\n",
        "3. hs {0, 1}, необязательный параметр) – Если 1, будет использован иерархический софтмакс, если 0 - отрицательное сэмплирование.\n",
        "\n",
        "4. alpha - начальное значение;\n",
        "\n",
        "5. min_alpha - условие остановки алгоритма;\n",
        "\n",
        "6. seed - рэндом сид. Используйте значение 14 при выполнении работы."
      ],
      "metadata": {
        "id": "bRSIlHk1FmmH"
      }
    },
    {
      "cell_type": "code",
      "source": [
        "#                training\n",
        "# ===========================================================================\n",
        "\n",
        "warnings.filterwarnings('ignore')\n",
        "\n",
        "model = Word2Vec(window = 10, sg = 1, hs = 0, batch_words=3000,\n",
        "                 negative = 10, # for negative sampling\n",
        "                 alpha=0.03, min_alpha=0.005,\n",
        "                 seed = 14)\n",
        "\n",
        "model.build_vocab(random_walks, progress_per=2)\n",
        "\n",
        "model.train(random_walks, total_examples = model.corpus_count, epochs=3, report_delay=1)"
      ],
      "metadata": {
        "id": "VQzZbdmgGs4A",
        "colab": {
          "base_uri": "https://localhost:8080/"
        },
        "outputId": "d3b01d73-0f71-4e32-aa97-1cb69c3b9357"
      },
      "execution_count": null,
      "outputs": [
        {
          "output_type": "execute_result",
          "data": {
            "text/plain": [
              "(20613, 86094)"
            ]
          },
          "metadata": {},
          "execution_count": 5
        }
      ]
    },
    {
      "cell_type": "code",
      "source": [
        "#                embendings\n",
        "# ===========================================================================\n",
        "\n",
        "X = model[model.wv.vocab] #эмбединги\n",
        "model.wv.vocab # сами ключи - номера узлов"
      ],
      "metadata": {
        "id": "ZvijqZJvG-fN",
        "colab": {
          "base_uri": "https://localhost:8080/"
        },
        "outputId": "a04c93a2-55cc-44df-9fd3-b293535e149d"
      },
      "execution_count": null,
      "outputs": [
        {
          "output_type": "execute_result",
          "data": {
            "text/plain": [
              "{'0': <gensim.models.keyedvectors.Vocab at 0x7f34235a3250>,\n",
              " '27': <gensim.models.keyedvectors.Vocab at 0x7f34235a3550>,\n",
              " '26': <gensim.models.keyedvectors.Vocab at 0x7f34235a3490>,\n",
              " '23': <gensim.models.keyedvectors.Vocab at 0x7f34237b3fd0>,\n",
              " '5': <gensim.models.keyedvectors.Vocab at 0x7f34237b3890>,\n",
              " '6': <gensim.models.keyedvectors.Vocab at 0x7f34237b3bd0>,\n",
              " '3': <gensim.models.keyedvectors.Vocab at 0x7f34237b3f50>,\n",
              " '7': <gensim.models.keyedvectors.Vocab at 0x7f34237b3e10>,\n",
              " '8': <gensim.models.keyedvectors.Vocab at 0x7f34237b3d90>,\n",
              " '9': <gensim.models.keyedvectors.Vocab at 0x7f34237b3ed0>,\n",
              " '10': <gensim.models.keyedvectors.Vocab at 0x7f34237b38d0>,\n",
              " '1': <gensim.models.keyedvectors.Vocab at 0x7f34237b3d50>,\n",
              " '21': <gensim.models.keyedvectors.Vocab at 0x7f34237b3b10>,\n",
              " '19': <gensim.models.keyedvectors.Vocab at 0x7f342359ba50>,\n",
              " '18': <gensim.models.keyedvectors.Vocab at 0x7f342359bd10>,\n",
              " '17': <gensim.models.keyedvectors.Vocab at 0x7f342359bfd0>,\n",
              " '20': <gensim.models.keyedvectors.Vocab at 0x7f342359bed0>,\n",
              " '16': <gensim.models.keyedvectors.Vocab at 0x7f342359be10>,\n",
              " '11': <gensim.models.keyedvectors.Vocab at 0x7f342359bf90>,\n",
              " '13': <gensim.models.keyedvectors.Vocab at 0x7f342359bd50>,\n",
              " '12': <gensim.models.keyedvectors.Vocab at 0x7f342359bf50>,\n",
              " '15': <gensim.models.keyedvectors.Vocab at 0x7f342359bb90>,\n",
              " '4': <gensim.models.keyedvectors.Vocab at 0x7f342359bd90>,\n",
              " '25': <gensim.models.keyedvectors.Vocab at 0x7f342359bf10>,\n",
              " '22': <gensim.models.keyedvectors.Vocab at 0x7f342359bc50>,\n",
              " '24': <gensim.models.keyedvectors.Vocab at 0x7f342359ba90>,\n",
              " '14': <gensim.models.keyedvectors.Vocab at 0x7f342359b9d0>,\n",
              " '2': <gensim.models.keyedvectors.Vocab at 0x7f342359b990>,\n",
              " '40': <gensim.models.keyedvectors.Vocab at 0x7f342359ba10>,\n",
              " '38': <gensim.models.keyedvectors.Vocab at 0x7f342359bc10>,\n",
              " '28': <gensim.models.keyedvectors.Vocab at 0x7f342359bbd0>,\n",
              " '30': <gensim.models.keyedvectors.Vocab at 0x7f342359b7d0>,\n",
              " '32': <gensim.models.keyedvectors.Vocab at 0x7f342359bdd0>,\n",
              " '34': <gensim.models.keyedvectors.Vocab at 0x7f342359b8d0>,\n",
              " '29': <gensim.models.keyedvectors.Vocab at 0x7f342359b810>,\n",
              " '33': <gensim.models.keyedvectors.Vocab at 0x7f342359bb50>,\n",
              " '39': <gensim.models.keyedvectors.Vocab at 0x7f342359b850>,\n",
              " '36': <gensim.models.keyedvectors.Vocab at 0x7f342359b890>,\n",
              " '35': <gensim.models.keyedvectors.Vocab at 0x7f342359b710>,\n",
              " '31': <gensim.models.keyedvectors.Vocab at 0x7f342359b610>,\n",
              " '37': <gensim.models.keyedvectors.Vocab at 0x7f342359b590>}"
            ]
          },
          "metadata": {},
          "execution_count": 6
        }
      ]
    },
    {
      "cell_type": "code",
      "source": [
        "#                demension reduction\n",
        "# ===========================================================================\n",
        "\n",
        "#from random import randint\n",
        "#from sklearn.manifold import TSNE\n",
        "\n",
        "# ----- Параметры функций -----------------------\n",
        "#labels - метки кластера\n",
        "#node_list- идентификаторы узлов графа список\n",
        "#X_embedding - признаковое описание каждого объекта (матрица) \n",
        "#annotate - выводить ли подписи названий узлов на график\n",
        "#annotate_labes  - словарь с названиями узлов\n",
        "\n",
        "\n",
        "\n",
        "def plot_nodes(node_list, X_embedding, labels = [], annotate = False, annotate_labes = {} ):\n",
        "    X = X_embedding\n",
        "\n",
        "    #цвет, при отсутствии меток кластера\n",
        "    colors = ['#6495ED' for i in node_list]\n",
        "    map={}\n",
        "    #если метки кластера в наличии, то случайно выбираем цвета\n",
        "    if len(labels) != 0:\n",
        "       for i in set(labels):\n",
        "         map[i]='#%06X' % randint(0, 0xFFFFFF)\n",
        "       colors = [map[i] for i in labels]\n",
        "    \n",
        "    # уменьшаем размерность до 2х\n",
        "    pca = PCA(n_components=2)\n",
        "    result = pca.fit_transform(X)\n",
        "    \n",
        "\n",
        "    \n",
        "    plt.figure(figsize=(6,3))\n",
        "    # create a scatter plot of the projection\n",
        "\n",
        "    plt.scatter(result[:, 0], result[:, 1],  c=colors)\n",
        "    for i, node in enumerate(node_list):\n",
        "         if (annotate_labes[node] !='-' and annotate ==True):\n",
        "          plt.annotate(annotate_labes[node], xy=(result[i, 0], result[i, 1]))\n",
        "    \n",
        "    plt.show()\n",
        "\n",
        "\n",
        "\n",
        "###------------------------\n",
        "def plot_TSNE_nodes(node_list, X_embedding, labels = [], annotate = False, annotate_labes = {}):\n",
        "\n",
        "    colors = ['#6495ED' for i in node_list]\n",
        "    map={}\n",
        "    if len(labels) != 0:\n",
        "      for i in set(labels):\n",
        "         map[i]='#%06X' % randint(0, 0xFFFFFF)\n",
        "      colors = [map[i] for i in labels]\n",
        "    X = X_embedding\n",
        "\n",
        "    tsne = TSNE(n_components=2, verbose=0, perplexity=7)\n",
        "    tsne_results = tsne.fit_transform(X)\n",
        "\n",
        "    plt.figure(figsize=(9,6))\n",
        "    # create a scatter plot of the projection\n",
        "    plt.scatter(tsne_results[:, 0], tsne_results[:, 1], c = colors)\n",
        "    for i, node in enumerate(node_list):\n",
        "        if (annotate_labes[node] !='-' and annotate ==True):\n",
        "          plt.annotate(annotate_labes[node], xy=(tsne_results[i, 0], tsne_results[i, 1]))\n",
        "    plt.show()\n",
        "\n",
        "#### ОБА ГРАФИКА ДЛЯ СРАВНЕНИЯ ---------------------------\n",
        "def plot_TSNE_PCA_nodes(node_list, X_embedding, labels = [], annotate = False, annotate_labes = {}):\n",
        "\n",
        "    colors = ['#6495ED' for i in node_list]\n",
        "    map={}\n",
        "    if len(labels) != 0:\n",
        "      for i in set(labels):\n",
        "         map[i]='#%06X' % randint(0, 0xFFFFFF)\n",
        "      colors = [map[i] for i in labels]\n",
        "    X = X_embedding\n",
        "    tsne = TSNE(n_components=2, verbose=0, perplexity=7)\n",
        "    #perpexity\tСтепень хаоса, которая указывает, сколько соседних точек учитывается при оптимизации t-SNE,\n",
        "    # по умолчанию 30, а рекомендуемое значение от 5 до 50\n",
        "    tsne_results = tsne.fit_transform(X)\n",
        "\n",
        "    pca = PCA(n_components=2)\n",
        "    pca_result = pca.fit_transform(X)\n",
        "    \n",
        "    f, ax = plt.subplots(1, 2, figsize=(10, 5))\n",
        "    ax[0].scatter(pca_result[:, 0], pca_result[:, 1],  c=colors)\n",
        "    ax[0].set_title('PCA Cluster Plot')\n",
        "\n",
        "    ax[1].scatter(tsne_results[:, 0], tsne_results[:, 1], c = colors)\n",
        "    ax[1].set_title('TSNE Cluster Plot') \n",
        "    plt.show()\n",
        "\n",
        "##############################################################################################\n",
        "#метки узлов в словаре для графиков\n",
        "\n",
        "list_labels ={}\n",
        "for node in G.nodes:\n",
        "  list_labels[node]=G.nodes[node]['label']\n",
        "\n",
        "#list_labels  \n",
        "\n",
        "list_labels ={}\n",
        "for node in G.nodes:\n",
        "  list_labels[node]=G.nodes[node]['label']\n",
        "\n",
        "list_labels"
      ],
      "metadata": {
        "id": "_QdpVI67HKFc",
        "colab": {
          "base_uri": "https://localhost:8080/"
        },
        "outputId": "0b08f458-cddc-4b76-949a-bb9f81476668"
      },
      "execution_count": null,
      "outputs": [
        {
          "output_type": "execute_result",
          "data": {
            "text/plain": [
              "{'0': 'Главный тренер-группа pro',\n",
              " '1': 'Тренер - группа любители, организатор 1',\n",
              " '2': 'Организатор 2',\n",
              " '3': 'Организатор 3(Дох)',\n",
              " '4': 'Спортивный врач-физиотерапевт',\n",
              " '5': 'Спортсмен-pro-1',\n",
              " '6': 'Спортсмен-pro-2',\n",
              " '7': 'Спортсмен-pro-3',\n",
              " '8': 'Спортсмен-pro-4',\n",
              " '9': 'Спортсмен-pro-5',\n",
              " '10': 'Спортсмен-pro-6',\n",
              " '11': 'Спортсмен-любитель 1',\n",
              " '12': 'Спортсмен-любитель 2',\n",
              " '13': 'Спортсмен-любитель 3',\n",
              " '14': 'Спортсмен-любитель 4',\n",
              " '15': 'Спортсмен-любитель 5',\n",
              " '16': 'Спортсмен-любитель 6',\n",
              " '17': 'Спортсмен-любитель 7',\n",
              " '18': 'Спортсмен-любитель 8',\n",
              " '19': 'Спортсмен-любитель 9',\n",
              " '20': 'Спортсмен-любитель 10',\n",
              " '21': 'Спортсмен-любитель 11',\n",
              " '22': 'Спортсмен-другой регион 1',\n",
              " '23': 'Спортсмен-другой регион 2',\n",
              " '24': 'Спортсмен-другой регион 3',\n",
              " '25': 'Спортсмен-другой регион 4',\n",
              " '26': 'Спортсмен-другой регион 5',\n",
              " '27': 'Тренер спортсменов др. регион',\n",
              " '28': 'Активный-участник 1',\n",
              " '29': 'Активный-участник 2',\n",
              " '30': 'Активный-участник 3',\n",
              " '31': 'Активный-участник 4',\n",
              " '32': 'Активный-участник 5',\n",
              " '33': 'Активный-участник 6',\n",
              " '34': 'Активный-участник 7',\n",
              " '35': 'Активный-участник 8',\n",
              " '36': 'Активный-участник 9',\n",
              " '37': 'Активный-участник 10',\n",
              " '38': 'Активный-участник 11',\n",
              " '39': 'Активный-участник 12',\n",
              " '40': 'Активный-участник 13'}"
            ]
          },
          "metadata": {},
          "execution_count": 7
        }
      ]
    },
    {
      "cell_type": "markdown",
      "source": [
        "Функция similar_by_word - находит схожие узлы графа, опираясь на полученное векторное представление узлов графа. Мерой схожести является косинусная близость между векторами. По умолчанию вернет 10 наиболее похожих узлов.\n",
        "\n",
        "Функция similarity - возвращает значение близости между векторами (cosine similarity)"
      ],
      "metadata": {
        "id": "7tuZTSW7PCtF"
      }
    },
    {
      "cell_type": "code",
      "source": [
        "#                example finding similar embendings\n",
        "# ===========================================================================\n",
        "\n",
        "\n",
        "similar = model.wv.similar_by_word('18')\n",
        "print(\"Узлы, схожие с 18  \", similar)\n",
        "print(\"Косинусная мера сходства между узлами 18 и 18\", model.wv.similarity('18', '18')) # узел похож на сам себя, косинусная мера должна быть = 1\n",
        "similar1 = model.wv.similar_by_word('21')\n",
        "print(\"Узлы, схожие с 21  \", similar1)"
      ],
      "metadata": {
        "id": "X7ZgKeVIPD5p",
        "colab": {
          "base_uri": "https://localhost:8080/"
        },
        "outputId": "ca6380bb-e633-4ed4-a503-f783b018b46e"
      },
      "execution_count": null,
      "outputs": [
        {
          "output_type": "stream",
          "name": "stdout",
          "text": [
            "Узлы, схожие с 18   [('17', 0.9972472190856934), ('20', 0.9967373013496399), ('21', 0.9961931705474854), ('19', 0.9954202175140381), ('1', 0.9778100848197937), ('15', 0.9693114161491394), ('16', 0.965814471244812), ('14', 0.9630458950996399), ('13', 0.960548996925354), ('12', 0.9602344036102295)]\n",
            "Косинусная мера сходства между узлами 18 и 18 1.0\n",
            "Узлы, схожие с 21   [('20', 0.996990978717804), ('18', 0.9961931705474854), ('17', 0.9960108995437622), ('19', 0.9921140074729919), ('1', 0.9865443706512451), ('15', 0.9692676067352295), ('16', 0.9678199291229248), ('13', 0.9625237584114075), ('14', 0.9612215757369995), ('12', 0.9611572027206421)]\n"
          ]
        }
      ]
    },
    {
      "cell_type": "code",
      "source": [
        "#                seeing similar nodes \n",
        "# ===========================================================================\n",
        "\n",
        "# как посмотреть узлы,которые схожи с заданным \n",
        "# в similar - узлы схожие с 18 узлов - 10 узлов по умолчанию\n",
        "\n",
        "for i in range(len(similar)):\n",
        "  print (G.nodes[similar[i][0]]['label'] )\n",
        "print(len(similar))\n",
        "print ('------------------------')\n",
        "for i in range(len(similar)):\n",
        "  print (G.nodes[similar1[i][0]]['label'] )\n",
        "similar = model.wv.similar_by_word('1')"
      ],
      "metadata": {
        "colab": {
          "base_uri": "https://localhost:8080/"
        },
        "id": "e7dt03h3c-Q9",
        "outputId": "cd2d826f-5cc7-4284-a67b-451a82f21a7a"
      },
      "execution_count": null,
      "outputs": [
        {
          "output_type": "stream",
          "name": "stdout",
          "text": [
            "Спортсмен-любитель 7\n",
            "Спортсмен-любитель 10\n",
            "Спортсмен-любитель 11\n",
            "Спортсмен-любитель 9\n",
            "Тренер - группа любители, организатор 1\n",
            "Спортсмен-любитель 5\n",
            "Спортсмен-любитель 6\n",
            "Спортсмен-любитель 4\n",
            "Спортсмен-любитель 3\n",
            "Спортсмен-любитель 2\n",
            "10\n",
            "------------------------\n",
            "Спортсмен-любитель 10\n",
            "Спортсмен-любитель 8\n",
            "Спортсмен-любитель 7\n",
            "Спортсмен-любитель 9\n",
            "Тренер - группа любители, организатор 1\n",
            "Спортсмен-любитель 5\n",
            "Спортсмен-любитель 6\n",
            "Спортсмен-любитель 3\n",
            "Спортсмен-любитель 4\n",
            "Спортсмен-любитель 2\n"
          ]
        }
      ]
    },
    {
      "cell_type": "code",
      "source": [
        "#from sklearn.decomposition import PCA\n",
        "#import matplotlib.pyplot as plt\n",
        "#%matplotlib inline\n",
        "\n",
        "plot_nodes(node_list = list(model.wv.vocab), X_embedding=X, annotate=True, annotate_labes=list_labels)\n",
        "plot_TSNE_PCA_nodes(node_list = list(model.wv.vocab), X_embedding=X, annotate=True, annotate_labes=list_labels)"
      ],
      "metadata": {
        "colab": {
          "base_uri": "https://localhost:8080/",
          "height": 531
        },
        "id": "v0NoiK1Vc-Ti",
        "outputId": "91fc331f-a1a8-4d30-8873-b41d451d6619"
      },
      "execution_count": null,
      "outputs": [
        {
          "output_type": "display_data",
          "data": {
            "text/plain": [
              "<Figure size 432x216 with 1 Axes>"
            ],
            "image/png": "[encoded data removed]"
          },
          "metadata": {
            "needs_background": "light"
          }
        },
        {
          "output_type": "display_data",
          "data": {
            "text/plain": [
              "<Figure size 720x360 with 2 Axes>"
            ],
            "image/png": "[encoded data removed]"
          },
          "metadata": {
            "needs_background": "light"
          }
        }
      ]
    },
    {
      "cell_type": "code",
      "source": [
        "#                data clustering by DB Scan\n",
        "# ===========================================================================\n",
        "\n",
        "#                normalization if needed\n",
        "# ===========================================================================\n",
        "\n",
        "#from sklearn import preprocessing\n",
        "#scaler  = preprocessing.StandardScaler().fit(X)\n",
        "\n",
        "#X_scaled = scaler.transform(X)\n",
        "\n",
        "# косинусное сходство !!!!\n",
        "# функция выводит состав кластеров\n",
        "# lab = метки кластеров\n",
        "# G - граф\n",
        "\n",
        "def print_clusters(lab, G, list_nodes):\n",
        "\n",
        "  for k in list(set(lab)):\n",
        "    print (\"CLUSTER  \", k,\"-----------------------------------------------------\")\n",
        "    j=0\n",
        "    t=0\n",
        "    for i in range(0, len(lab)):\n",
        "      if lab[i]==k:\n",
        "        t = t + 1\n",
        "        itm =list_nodes[i]\n",
        "        if G.nodes[itm]['label'] != \"-\":\n",
        "          print (G.nodes[itm]['label'], \", id-\", itm)\n",
        "        else:\n",
        "          j = j+1\n",
        "\n",
        "    print (\"Неразмеченных -\", j)  \n",
        "    print (\"ВСЕГО в кластере  -\", t)  "
      ],
      "metadata": {
        "id": "ukFObCMsjVnb"
      },
      "execution_count": null,
      "outputs": []
    },
    {
      "cell_type": "code",
      "source": [
        "## db скан с косинусным расстоянием !!!!\n",
        "\n",
        "from sklearn.cluster import DBSCAN\n",
        "import numpy as np\n",
        "import sklearn\n",
        "#X = model[model.wv.vocab]\n",
        "CosDist = sklearn.metrics.pairwise.cosine_distances(X,X)\n",
        "\n",
        "#можно двумя способами сделать\n",
        "#db = DBSCAN(metric=\"precomputed\", eps=0.5, min_samples=2).fit(CosDist) \n",
        "db = DBSCAN( metric='cosine', eps=0.05, min_samples=2).fit(X)\n",
        "db.labels_\n",
        "\n",
        "#оценка сколько получилось кластеров и сколько объектов отмечено как шумовых\n",
        "n_clusters_ = len(set(db.labels_)) - (1 if -1 in db.labels_ else 0)\n",
        "n_noise_ = list(db.labels_).count(-1)\n",
        "print(\"кластеров - \", n_clusters_, \", шум \", n_noise_, \", всего \", len(db.labels_) , \", метки кластеров\", set(db.labels_))\n",
        "\n",
        "print_clusters(db.labels_, G, list(model.wv.vocab))  \n",
        "\n",
        "#ВИЗУАЛИЗИРУЙТЕ ПОЛУЧЕННЫЕ КЛАСТЕРЫ ----------------"
      ],
      "metadata": {
        "colab": {
          "base_uri": "https://localhost:8080/"
        },
        "id": "qt4RnOvNjlmD",
        "outputId": "a53889c5-a3c0-451f-9ca8-e6f983fb9dd6"
      },
      "execution_count": null,
      "outputs": [
        {
          "output_type": "stream",
          "name": "stdout",
          "text": [
            "кластеров -  3 , шум  0 , всего  41 , метки кластеров {0, 1, 2}\n",
            "CLUSTER   0 -----------------------------------------------------\n",
            "Главный тренер-группа pro , id- 0\n",
            "Тренер спортсменов др. регион , id- 27\n",
            "Спортсмен-другой регион 5 , id- 26\n",
            "Спортсмен-другой регион 2 , id- 23\n",
            "Спортсмен-pro-1 , id- 5\n",
            "Спортсмен-pro-2 , id- 6\n",
            "Организатор 3(Дох) , id- 3\n",
            "Спортсмен-pro-3 , id- 7\n",
            "Спортсмен-pro-4 , id- 8\n",
            "Спортсмен-pro-5 , id- 9\n",
            "Спортсмен-pro-6 , id- 10\n",
            "Спортивный врач-физиотерапевт , id- 4\n",
            "Спортсмен-другой регион 4 , id- 25\n",
            "Спортсмен-другой регион 1 , id- 22\n",
            "Спортсмен-другой регион 3 , id- 24\n",
            "Неразмеченных - 0\n",
            "ВСЕГО в кластере  - 15\n",
            "CLUSTER   1 -----------------------------------------------------\n",
            "Тренер - группа любители, организатор 1 , id- 1\n",
            "Спортсмен-любитель 11 , id- 21\n",
            "Спортсмен-любитель 9 , id- 19\n",
            "Спортсмен-любитель 8 , id- 18\n",
            "Спортсмен-любитель 7 , id- 17\n",
            "Спортсмен-любитель 10 , id- 20\n",
            "Спортсмен-любитель 6 , id- 16\n",
            "Спортсмен-любитель 1 , id- 11\n",
            "Спортсмен-любитель 3 , id- 13\n",
            "Спортсмен-любитель 2 , id- 12\n",
            "Спортсмен-любитель 5 , id- 15\n",
            "Спортсмен-любитель 4 , id- 14\n",
            "Неразмеченных - 0\n",
            "ВСЕГО в кластере  - 12\n",
            "CLUSTER   2 -----------------------------------------------------\n",
            "Организатор 2 , id- 2\n",
            "Активный-участник 13 , id- 40\n",
            "Активный-участник 11 , id- 38\n",
            "Активный-участник 1 , id- 28\n",
            "Активный-участник 3 , id- 30\n",
            "Активный-участник 5 , id- 32\n",
            "Активный-участник 7 , id- 34\n",
            "Активный-участник 2 , id- 29\n",
            "Активный-участник 6 , id- 33\n",
            "Активный-участник 12 , id- 39\n",
            "Активный-участник 9 , id- 36\n",
            "Активный-участник 8 , id- 35\n",
            "Активный-участник 4 , id- 31\n",
            "Активный-участник 10 , id- 37\n",
            "Неразмеченных - 0\n",
            "ВСЕГО в кластере  - 14\n"
          ]
        }
      ]
    },
    {
      "cell_type": "code",
      "source": [
        "#                data clustering by Affinity propagation\n",
        "# ===========================================================================\n",
        "# (метод локтя)\n",
        "\n",
        "#используя пакетную обработку можно рассчитать \n",
        "#оптимальное число кластеров.\n",
        "#однако при такой обработке отсутствует возможность вычислять меру расстояния самостоятельно\n",
        "#Используем однако в таком виде и сделаем \"прикидку\" для определения оптимального числа кластеров методом Локтя\n",
        "from sklearn.cluster import MiniBatchKMeans\n",
        "#оптимальное число кластеров \n",
        "def find_optimal_clusters(data, max_k):\n",
        "    iters = range(2, max_k+1, 1)\n",
        "    \n",
        "    sse = []\n",
        "    for k in iters:\n",
        "        sse.append(MiniBatchKMeans(n_clusters=k, init_size=1024, batch_size=2048, random_state=20).fit(data).inertia_)\n",
        "        print('Fit {} clusters'.format(k))\n",
        "        \n",
        "    f, ax = plt.subplots(1, 1)\n",
        "    ax.plot(iters, sse, marker='o')\n",
        "    ax.set_xlabel('Центры кластеров')\n",
        "    ax.set_xticks(iters)\n",
        "    ax.set_xticklabels(iters)\n",
        "    ax.set_ylabel('SSE')\n",
        "    ax.set_title('SSE by Cluster Center Plot')\n",
        "    \n",
        "find_optimal_clusters(X, 10)\n"
      ],
      "metadata": {
        "colab": {
          "base_uri": "https://localhost:8080/",
          "height": 451
        },
        "id": "MI9n6ePDm4LJ",
        "outputId": "bf07aa09-eb95-475b-b85a-a4e64f6fc182"
      },
      "execution_count": null,
      "outputs": [
        {
          "output_type": "stream",
          "name": "stdout",
          "text": [
            "Fit 2 clusters\n",
            "Fit 3 clusters\n",
            "Fit 4 clusters\n",
            "Fit 5 clusters\n",
            "Fit 6 clusters\n",
            "Fit 7 clusters\n",
            "Fit 8 clusters\n",
            "Fit 9 clusters\n",
            "Fit 10 clusters\n"
          ]
        },
        {
          "output_type": "display_data",
          "data": {
            "text/plain": [
              "<Figure size 432x288 with 1 Axes>"
            ],
            "image/png": "[encoded data removed]"
          },
          "metadata": {
            "needs_background": "light"
          }
        }
      ]
    },
    {
      "cell_type": "code",
      "source": [
        "#                data clustering by k-means\n",
        "# ===========================================================================\n",
        "\n",
        "!pip install scikit-learn-extra\n",
        "\n",
        "from sklearn.cluster import KMeans\n",
        "kmeans_cluster = KMeans(n_clusters=3, random_state=10).fit(X)\n",
        "#, precompute_distances = True\n",
        "print(kmeans_cluster.labels_)\n",
        "print_clusters(kmeans_cluster.labels_, G, list(model.wv.vocab))\n",
        "plot_TSNE_PCA_nodes(node_list = list(model.wv.vocab), X_embedding=X, annotate=True, annotate_labes=list_labels, labels=kmeans_cluster.labels_)\n",
        "\n",
        "from sklearn_extra.cluster import KMedoids\n",
        "from sklearn import metrics\n",
        "#выберем оптимальное число кластеров по силуэту\n",
        "iters_1 = range(2, 10, 1)\n",
        "siloete_arr = []\n",
        "for k in iters_1:\n",
        "    kmedoids = KMedoids(n_clusters=k, random_state=14, metric='cosine').fit(X)\n",
        "    siloete_arr.append(metrics.silhouette_score( metric=\"precomputed\", X=CosDist,   labels=kmedoids.labels_ ))\n",
        "    \n",
        "\n",
        "    print('Fit {} clusters'.format(k))\n",
        "    \n",
        "f, ax = plt.subplots(1, 1)\n",
        "ax.plot(iters_1, siloete_arr, marker='o')\n",
        "ax.set_xlabel('Центры кластеров')\n",
        "ax.set_xticks(iters_1)\n",
        "ax.set_xticklabels(iters_1)\n",
        "ax.set_ylabel('Siloete')\n",
        "ax.set_title('Siloete by Cluster Center Plot')\n",
        "####################\n",
        "print (siloete_arr)"
      ],
      "metadata": {
        "colab": {
          "base_uri": "https://localhost:8080/",
          "height": 1000
        },
        "id": "dVpRuXR0nP3U",
        "outputId": "f66b80a8-2a1f-4a28-f80e-8fae49804b57"
      },
      "execution_count": null,
      "outputs": [
        {
          "output_type": "stream",
          "name": "stdout",
          "text": [
            "Looking in indexes: https://pypi.org/simple, https://us-python.pkg.dev/colab-wheels/public/simple/\n",
            "Collecting scikit-learn-extra\n",
            "  Downloading scikit_learn_extra-0.2.0-cp37-cp37m-manylinux2010_x86_64.whl (1.7 MB)\n",
            "\u001b[K     |████████████████████████████████| 1.7 MB 5.1 MB/s \n",
            "\u001b[?25hRequirement already satisfied: scikit-learn>=0.23.0 in /usr/local/lib/python3.7/dist-packages (from scikit-learn-extra) (1.0.2)\n",
            "Requirement already satisfied: numpy>=1.13.3 in /usr/local/lib/python3.7/dist-packages (from scikit-learn-extra) (1.21.6)\n",
            "Requirement already satisfied: scipy>=0.19.1 in /usr/local/lib/python3.7/dist-packages (from scikit-learn-extra) (1.7.3)\n",
            "Requirement already satisfied: threadpoolctl>=2.0.0 in /usr/local/lib/python3.7/dist-packages (from scikit-learn>=0.23.0->scikit-learn-extra) (3.1.0)\n",
            "Requirement already satisfied: joblib>=0.11 in /usr/local/lib/python3.7/dist-packages (from scikit-learn>=0.23.0->scikit-learn-extra) (1.2.0)\n",
            "Installing collected packages: scikit-learn-extra\n",
            "Successfully installed scikit-learn-extra-0.2.0\n",
            "[0 0 0 0 0 0 0 0 0 0 0 2 2 2 2 2 2 2 2 2 2 2 0 0 0 0 2 1 1 1 1 1 1 1 1 1 1\n",
            " 1 1 1 1]\n",
            "CLUSTER   0 -----------------------------------------------------\n",
            "Главный тренер-группа pro , id- 0\n",
            "Тренер спортсменов др. регион , id- 27\n",
            "Спортсмен-другой регион 5 , id- 26\n",
            "Спортсмен-другой регион 2 , id- 23\n",
            "Спортсмен-pro-1 , id- 5\n",
            "Спортсмен-pro-2 , id- 6\n",
            "Организатор 3(Дох) , id- 3\n",
            "Спортсмен-pro-3 , id- 7\n",
            "Спортсмен-pro-4 , id- 8\n",
            "Спортсмен-pro-5 , id- 9\n",
            "Спортсмен-pro-6 , id- 10\n",
            "Спортивный врач-физиотерапевт , id- 4\n",
            "Спортсмен-другой регион 4 , id- 25\n",
            "Спортсмен-другой регион 1 , id- 22\n",
            "Спортсмен-другой регион 3 , id- 24\n",
            "Неразмеченных - 0\n",
            "ВСЕГО в кластере  - 15\n",
            "CLUSTER   1 -----------------------------------------------------\n",
            "Организатор 2 , id- 2\n",
            "Активный-участник 13 , id- 40\n",
            "Активный-участник 11 , id- 38\n",
            "Активный-участник 1 , id- 28\n",
            "Активный-участник 3 , id- 30\n",
            "Активный-участник 5 , id- 32\n",
            "Активный-участник 7 , id- 34\n",
            "Активный-участник 2 , id- 29\n",
            "Активный-участник 6 , id- 33\n",
            "Активный-участник 12 , id- 39\n",
            "Активный-участник 9 , id- 36\n",
            "Активный-участник 8 , id- 35\n",
            "Активный-участник 4 , id- 31\n",
            "Активный-участник 10 , id- 37\n",
            "Неразмеченных - 0\n",
            "ВСЕГО в кластере  - 14\n",
            "CLUSTER   2 -----------------------------------------------------\n",
            "Тренер - группа любители, организатор 1 , id- 1\n",
            "Спортсмен-любитель 11 , id- 21\n",
            "Спортсмен-любитель 9 , id- 19\n",
            "Спортсмен-любитель 8 , id- 18\n",
            "Спортсмен-любитель 7 , id- 17\n",
            "Спортсмен-любитель 10 , id- 20\n",
            "Спортсмен-любитель 6 , id- 16\n",
            "Спортсмен-любитель 1 , id- 11\n",
            "Спортсмен-любитель 3 , id- 13\n",
            "Спортсмен-любитель 2 , id- 12\n",
            "Спортсмен-любитель 5 , id- 15\n",
            "Спортсмен-любитель 4 , id- 14\n",
            "Неразмеченных - 0\n",
            "ВСЕГО в кластере  - 12\n"
          ]
        },
        {
          "output_type": "display_data",
          "data": {
            "text/plain": [
              "<Figure size 720x360 with 2 Axes>"
            ],
            "image/png": "[encoded data removed]"
          },
          "metadata": {
            "needs_background": "light"
          }
        },
        {
          "output_type": "stream",
          "name": "stdout",
          "text": [
            "Fit 2 clusters\n",
            "Fit 3 clusters\n",
            "Fit 4 clusters\n",
            "Fit 5 clusters\n",
            "Fit 6 clusters\n",
            "Fit 7 clusters\n",
            "Fit 8 clusters\n",
            "Fit 9 clusters\n",
            "[0.70230377, 0.94916385, 0.90928537, 0.8606987, 0.82513857, 0.6264222, 0.5372658, 0.51492447]\n"
          ]
        },
        {
          "output_type": "display_data",
          "data": {
            "text/plain": [
              "<Figure size 432x288 with 1 Axes>"
            ],
            "image/png": "[encoded data removed]"
          },
          "metadata": {
            "needs_background": "light"
          }
        }
      ]
    },
    {
      "cell_type": "code",
      "source": [
        "# Используя метод kmedoid https://scikit-learn-extra.readthedocs.io/en/stable/generated/sklearn_extra.cluster.KMedoids.html\n",
        "# получите метки кластеров и выведете результат с использованием функции print_clusters и plot_TSNE_PCA_nodes\n",
        "#kmedoids = KMedoids(n_clusters=7, random_state=14, metric='cosine').fit(X)\n",
        "#kmedoids.labels_\n",
        "\n",
        "#Affinity propagation используйте damping 0.7, косинусное расстояние\n",
        "# выведете содержимое кластеров и визуальную картинку\n",
        "\n",
        "from sklearn.cluster import AffinityPropagation\n",
        "\n",
        "ap_cluster = AffinityPropagation( damping=0.9, max_iter=100, affinity='precomputed').fit(CosDist)\n"
      ],
      "metadata": {
        "id": "X2EICIdFoZ6j"
      },
      "execution_count": null,
      "outputs": []
    },
    {
      "cell_type": "code",
      "source": [
        "#                metrics\n",
        "# ===========================================================================\n",
        "\n",
        "from sklearn import metrics\n",
        "#Силуэт\n",
        "#print (\"Affinity силуэт\", metrics.silhouette_score( metric=\"precomputed\", X=CosDist,   labels=ap_cluster.labels_ ))\n",
        "\n",
        "# ARI\n",
        "#print(\"ARI dbscan vs affinity propagation \", metrics.adjusted_rand_score(db.labels_, ap_cluster.labels_))\n",
        "\n",
        "#AMI\n",
        "#print(\"AMI dbscan vs affinity propagation \",metrics.adjusted_mutual_info_score(db.labels_, ap_cluster.labels_))"
      ],
      "metadata": {
        "id": "NJFRcfs_nP-A"
      },
      "execution_count": null,
      "outputs": []
    }
  ]
}